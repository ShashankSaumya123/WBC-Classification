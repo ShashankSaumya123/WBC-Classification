{
 "cells": [
  {
   "cell_type": "code",
   "execution_count": 1,
   "metadata": {},
   "outputs": [],
   "source": [
    "#IMPORTING STUFFS\n",
    "import tensorflow as tf\n",
    "import matplotlib.pyplot as plt\n",
    "from tensorflow import keras\n",
    "import numpy as np\n",
    "from sklearn.utils import shuffle\n",
    "import pandas as pd \n",
    "from skimage.io import imread, imshow\n",
    "from skimage.transform import rescale\n",
    "from os import listdir\n",
    "from sklearn.model_selection import train_test_split as tts\n",
    "import pickle"
   ]
  },
  {
   "cell_type": "code",
   "execution_count": 2,
   "metadata": {},
   "outputs": [],
   "source": [
    "with open('dataX','rb') as f:\n",
    "    X = pickle.load(f)\n",
    "\n",
    "with open('dataY','rb') as g:\n",
    "    Y = pickle.load(g)\n",
    "\n"
   ]
  },
  {
   "cell_type": "code",
   "execution_count": 3,
   "metadata": {},
   "outputs": [
    {
     "data": {
      "text/plain": [
       "(9957, 120, 160)"
      ]
     },
     "execution_count": 3,
     "metadata": {},
     "output_type": "execute_result"
    }
   ],
   "source": [
    "X.shape"
   ]
  },
  {
   "cell_type": "code",
   "execution_count": 4,
   "metadata": {},
   "outputs": [],
   "source": [
    "X_train, X_test, y_train, y_test = tts(X, Y, test_size=0.33)"
   ]
  },
  {
   "cell_type": "code",
   "execution_count": 5,
   "metadata": {},
   "outputs": [
    {
     "data": {
      "text/plain": [
       "(6671, 120, 160, 1)"
      ]
     },
     "execution_count": 5,
     "metadata": {},
     "output_type": "execute_result"
    }
   ],
   "source": [
    "X_train = X_train.reshape(6671,120,160,1)\n",
    "X_train.shape"
   ]
  },
  {
   "cell_type": "code",
   "execution_count": 6,
   "metadata": {},
   "outputs": [
    {
     "data": {
      "text/plain": [
       "array([[1., 0., 0., 0.],\n",
       "       [0., 0., 0., 1.],\n",
       "       [0., 0., 0., 1.],\n",
       "       [0., 1., 0., 0.],\n",
       "       [0., 1., 0., 0.],\n",
       "       [0., 1., 0., 0.],\n",
       "       [0., 1., 0., 0.],\n",
       "       [0., 0., 1., 0.],\n",
       "       [0., 0., 0., 1.],\n",
       "       [1., 0., 0., 0.]], dtype=float32)"
      ]
     },
     "execution_count": 6,
     "metadata": {},
     "output_type": "execute_result"
    }
   ],
   "source": [
    "y_train_cate = keras.utils.to_categorical(\n",
    "    y_train,num_classes=4,dtype='float32'\n",
    ")\n",
    "\n",
    "y_train_cate[0:10]"
   ]
  },
  {
   "cell_type": "code",
   "execution_count": 9,
   "metadata": {},
   "outputs": [
    {
     "name": "stdout",
     "output_type": "stream",
     "text": [
      "Epoch 1/30\n",
      "209/209 [==============================] - 7s 29ms/step - loss: 1.4344 - accuracy: 0.2524\n",
      "Epoch 2/30\n",
      "209/209 [==============================] - 6s 27ms/step - loss: 1.3845 - accuracy: 0.2695\n",
      "Epoch 3/30\n",
      "209/209 [==============================] - 6s 27ms/step - loss: 1.3767 - accuracy: 0.2991\n",
      "Epoch 4/30\n",
      "209/209 [==============================] - 6s 27ms/step - loss: 1.3604 - accuracy: 0.3226\n",
      "Epoch 5/30\n",
      "209/209 [==============================] - 6s 27ms/step - loss: 1.3330 - accuracy: 0.3580\n",
      "Epoch 6/30\n",
      "209/209 [==============================] - 6s 27ms/step - loss: 1.2932 - accuracy: 0.3969\n",
      "Epoch 7/30\n",
      "209/209 [==============================] - 6s 27ms/step - loss: 1.2202 - accuracy: 0.4520\n",
      "Epoch 8/30\n",
      "209/209 [==============================] - 6s 27ms/step - loss: 1.1126 - accuracy: 0.5188\n",
      "Epoch 9/30\n",
      "209/209 [==============================] - 6s 27ms/step - loss: 0.9801 - accuracy: 0.5930\n",
      "Epoch 10/30\n",
      "209/209 [==============================] - 6s 27ms/step - loss: 0.8390 - accuracy: 0.6573\n",
      "Epoch 11/30\n",
      "209/209 [==============================] - 6s 27ms/step - loss: 0.6584 - accuracy: 0.7422\n",
      "Epoch 12/30\n",
      "209/209 [==============================] - 6s 27ms/step - loss: 0.4795 - accuracy: 0.8243\n",
      "Epoch 13/30\n",
      "209/209 [==============================] - 6s 27ms/step - loss: 0.3221 - accuracy: 0.8952\n",
      "Epoch 14/30\n",
      "209/209 [==============================] - 6s 27ms/step - loss: 0.1923 - accuracy: 0.9456\n",
      "Epoch 15/30\n",
      "209/209 [==============================] - 6s 27ms/step - loss: 0.1012 - accuracy: 0.9784\n",
      "Epoch 16/30\n",
      "209/209 [==============================] - 6s 27ms/step - loss: 0.0535 - accuracy: 0.9900\n",
      "Epoch 17/30\n",
      "209/209 [==============================] - 6s 27ms/step - loss: 0.0297 - accuracy: 0.9951\n",
      "Epoch 18/30\n",
      "209/209 [==============================] - 6s 27ms/step - loss: 0.0238 - accuracy: 0.9963\n",
      "Epoch 19/30\n",
      "209/209 [==============================] - 6s 27ms/step - loss: 0.0147 - accuracy: 0.9981\n",
      "Epoch 20/30\n",
      "209/209 [==============================] - 6s 27ms/step - loss: 0.0060 - accuracy: 0.9997\n",
      "Epoch 21/30\n",
      "209/209 [==============================] - 6s 27ms/step - loss: 0.0041 - accuracy: 0.9997\n",
      "Epoch 22/30\n",
      "209/209 [==============================] - 6s 27ms/step - loss: 0.0035 - accuracy: 0.9997\n",
      "Epoch 23/30\n",
      "209/209 [==============================] - 6s 27ms/step - loss: 0.0046 - accuracy: 0.9994\n",
      "Epoch 24/30\n",
      "209/209 [==============================] - 6s 27ms/step - loss: 0.0348 - accuracy: 0.9895\n",
      "Epoch 25/30\n",
      "209/209 [==============================] - 6s 27ms/step - loss: 0.1803 - accuracy: 0.9408\n",
      "Epoch 26/30\n",
      "209/209 [==============================] - 6s 27ms/step - loss: 0.0573 - accuracy: 0.9852\n",
      "Epoch 27/30\n",
      "209/209 [==============================] - 6s 27ms/step - loss: 0.0262 - accuracy: 0.9955\n",
      "Epoch 28/30\n",
      "209/209 [==============================] - 6s 27ms/step - loss: 0.0082 - accuracy: 0.9987\n",
      "Epoch 29/30\n",
      "209/209 [==============================] - 6s 27ms/step - loss: 0.0029 - accuracy: 0.9999\n",
      "Epoch 30/30\n",
      "209/209 [==============================] - 6s 27ms/step - loss: 0.0016 - accuracy: 0.9997\n"
     ]
    },
    {
     "data": {
      "text/plain": [
       "<keras.callbacks.History at 0x16fd0a3a5e0>"
      ]
     },
     "execution_count": 9,
     "metadata": {},
     "output_type": "execute_result"
    }
   ],
   "source": [
    "model = keras.Sequential([\n",
    "    #cnn layers\n",
    "    keras.layers.Conv2D(filters=32,kernel_size=(3, 3),activation='relu',input_shape=(120,160,1)),\n",
    "    keras.layers.MaxPooling2D((2,2)),\n",
    "\n",
    "    \n",
    "    keras.layers.Conv2D(filters=64,kernel_size=(3, 3),activation='relu'),\n",
    "    keras.layers.MaxPooling2D((2,2)),\n",
    "\n",
    "    #dense normal ann\n",
    "    keras.layers.Flatten(), \n",
    "       \n",
    "   \n",
    "    keras.layers.Dense(60,activation='relu'),\n",
    "\n",
    "        \n",
    "    keras.layers.Dense(4,activation='softmax'),\n",
    "    #softmax normalises the probability of the output set\n",
    "])\n",
    "\n",
    "\n",
    "model.compile(\n",
    "    optimizer='adam',\n",
    "    loss = 'categorical_crossentropy',\n",
    "    metrics=['accuracy']\n",
    ")\n",
    "\n",
    "model.fit(X_train,y_train_cate,epochs=30)"
   ]
  },
  {
   "cell_type": "code",
   "execution_count": 10,
   "metadata": {},
   "outputs": [
    {
     "name": "stdout",
     "output_type": "stream",
     "text": [
      "103/103 [==============================] - 2s 15ms/step - loss: 6.7917 - accuracy: 0.2751\n"
     ]
    },
    {
     "data": {
      "text/plain": [
       "[6.791671276092529, 0.2751065194606781]"
      ]
     },
     "execution_count": 10,
     "metadata": {},
     "output_type": "execute_result"
    }
   ],
   "source": [
    "X_test = X_test.reshape(3286,120,160,1)\n",
    "y_test_cate = keras.utils.to_categorical(\n",
    "    y_test,num_classes=4,dtype='float32'\n",
    ")\n",
    "\n",
    "model.evaluate(X_test,y_test_cate)"
   ]
  },
  {
   "cell_type": "code",
   "execution_count": 11,
   "metadata": {},
   "outputs": [],
   "source": [
    "yprob = model.predict(X_test)"
   ]
  },
  {
   "cell_type": "code",
   "execution_count": 12,
   "metadata": {},
   "outputs": [],
   "source": [
    "yprobcl = [np.argmax(i) for i in yprob]"
   ]
  },
  {
   "cell_type": "code",
   "execution_count": 13,
   "metadata": {},
   "outputs": [],
   "source": [
    "from sklearn.metrics import accuracy_score, confusion_matrix\n"
   ]
  },
  {
   "cell_type": "code",
   "execution_count": 14,
   "metadata": {},
   "outputs": [
    {
     "data": {
      "text/plain": [
       "0.2751065124771759"
      ]
     },
     "execution_count": 14,
     "metadata": {},
     "output_type": "execute_result"
    }
   ],
   "source": [
    "accuracy_score(y_test,yprobcl)"
   ]
  },
  {
   "cell_type": "code",
   "execution_count": 15,
   "metadata": {},
   "outputs": [
    {
     "data": {
      "text/html": [
       "<div>\n",
       "<style scoped>\n",
       "    .dataframe tbody tr th:only-of-type {\n",
       "        vertical-align: middle;\n",
       "    }\n",
       "\n",
       "    .dataframe tbody tr th {\n",
       "        vertical-align: top;\n",
       "    }\n",
       "\n",
       "    .dataframe thead th {\n",
       "        text-align: right;\n",
       "    }\n",
       "</style>\n",
       "<table border=\"1\" class=\"dataframe\">\n",
       "  <thead>\n",
       "    <tr style=\"text-align: right;\">\n",
       "      <th></th>\n",
       "      <th>Predicted 0</th>\n",
       "      <th>Predicted 1</th>\n",
       "      <th>Predicted 2</th>\n",
       "      <th>Predicted 3</th>\n",
       "    </tr>\n",
       "  </thead>\n",
       "  <tbody>\n",
       "    <tr>\n",
       "      <th>Actual 0</th>\n",
       "      <td>214</td>\n",
       "      <td>205</td>\n",
       "      <td>210</td>\n",
       "      <td>225</td>\n",
       "    </tr>\n",
       "    <tr>\n",
       "      <th>Actual 1</th>\n",
       "      <td>208</td>\n",
       "      <td>221</td>\n",
       "      <td>190</td>\n",
       "      <td>198</td>\n",
       "    </tr>\n",
       "    <tr>\n",
       "      <th>Actual 2</th>\n",
       "      <td>187</td>\n",
       "      <td>159</td>\n",
       "      <td>240</td>\n",
       "      <td>195</td>\n",
       "    </tr>\n",
       "    <tr>\n",
       "      <th>Actual 3</th>\n",
       "      <td>209</td>\n",
       "      <td>190</td>\n",
       "      <td>206</td>\n",
       "      <td>229</td>\n",
       "    </tr>\n",
       "  </tbody>\n",
       "</table>\n",
       "</div>"
      ],
      "text/plain": [
       "          Predicted 0  Predicted 1  Predicted 2  Predicted 3\n",
       "Actual 0          214          205          210          225\n",
       "Actual 1          208          221          190          198\n",
       "Actual 2          187          159          240          195\n",
       "Actual 3          209          190          206          229"
      ]
     },
     "execution_count": 15,
     "metadata": {},
     "output_type": "execute_result"
    }
   ],
   "source": [
    "from sklearn.utils.multiclass import unique_labels\n",
    "def plot(y_true,y_pred):    \n",
    "    column = [f'Predicted {label}' for label in unique_labels(y_true)]\n",
    "    indexx = [f'Actual {label}' for label in unique_labels(y_true)]\n",
    "    table = pd.DataFrame(confusion_matrix(y_true,y_pred),columns=column,index=indexx)\n",
    "    return table\n",
    "\n",
    "plot(y_test,yprobcl)\n"
   ]
  }
 ],
 "metadata": {
  "kernelspec": {
   "display_name": "researchvenv (3.10.5)",
   "language": "python",
   "name": "python3"
  },
  "language_info": {
   "codemirror_mode": {
    "name": "ipython",
    "version": 3
   },
   "file_extension": ".py",
   "mimetype": "text/x-python",
   "name": "python",
   "nbconvert_exporter": "python",
   "pygments_lexer": "ipython3",
   "version": "3.10.5"
  },
  "orig_nbformat": 4
 },
 "nbformat": 4,
 "nbformat_minor": 2
}
